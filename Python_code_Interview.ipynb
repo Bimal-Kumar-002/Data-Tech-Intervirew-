{
 "cells": [
  {
   "cell_type": "markdown",
   "id": "249b2644",
   "metadata": {},
   "source": [
    "## Interview Questions"
   ]
  },
  {
   "cell_type": "markdown",
   "id": "bebbfe5f",
   "metadata": {},
   "source": [
    "## Python Data Structure\n",
    "    1. List\n",
    "    2. Tuple\n",
    "    3. Dictionary\n",
    "    4. String\n",
    "    5. Basic Programing\n",
    "    6. Numpy\n",
    "    7. Pandas\n",
    "    8. oops\n",
    "    9. file handling"
   ]
  },
  {
   "cell_type": "markdown",
   "id": "afb9f5b8",
   "metadata": {},
   "source": [
    "### Q1. Make the list 3,4,5,6,7,89,10 \n",
    "### Q2. Concat the following \n",
    "    a= 1,2,4,10,30\n",
    "    b = [4,5,6]"
   ]
  },
  {
   "cell_type": "code",
   "execution_count": 1,
   "id": "42bafb3c",
   "metadata": {},
   "outputs": [
    {
     "name": "stdout",
     "output_type": "stream",
     "text": [
      "<class 'list'>\n"
     ]
    }
   ],
   "source": [
    "a = [3,4,3,4,5,6,7,89,10]\n",
    "print(type(a))"
   ]
  },
  {
   "cell_type": "code",
   "execution_count": 2,
   "id": "b0669aa2",
   "metadata": {},
   "outputs": [
    {
     "name": "stdout",
     "output_type": "stream",
     "text": [
      "[1, 2, 4, 10, 30, 4, 5, 6, 'Hi', 'Hello']\n"
     ]
    }
   ],
   "source": [
    "a = 1,2,4,10,30\n",
    "b = [4,5,6,'Hi','Hello']\n",
    "print(list(a)+b)"
   ]
  },
  {
   "cell_type": "markdown",
   "id": "d5dafb5c",
   "metadata": {},
   "source": [
    "### Q3. Reverse the word in the sentence\n",
    "    strings = \"Hi i am Python\"\n"
   ]
  },
  {
   "cell_type": "code",
   "execution_count": 3,
   "id": "88a758ea",
   "metadata": {},
   "outputs": [
    {
     "data": {
      "text/plain": [
       "['Python', 'am', 'i', 'Hi']"
      ]
     },
     "execution_count": 3,
     "metadata": {},
     "output_type": "execute_result"
    }
   ],
   "source": [
    "strings = \"Hi i am Python\"\n",
    "strings.split()[::-1]"
   ]
  },
  {
   "cell_type": "markdown",
   "id": "c63aae12",
   "metadata": {},
   "source": [
    "### Q4. Delete the 1st  Matching element from the lsit\n",
    "        [2,3,4,9,7,5,4]"
   ]
  },
  {
   "cell_type": "code",
   "execution_count": 4,
   "id": "6923a172",
   "metadata": {},
   "outputs": [
    {
     "name": "stdout",
     "output_type": "stream",
     "text": [
      "[2, 3, 9, 7, 5, 4]\n"
     ]
    }
   ],
   "source": [
    "a=[2,3,4,9,7,5,4]\n",
    "a.remove(4)\n",
    "print(a)"
   ]
  },
  {
   "cell_type": "markdown",
   "id": "37557edc",
   "metadata": {},
   "source": [
    "### Q5. Delete 4 from list and return the values\n",
    "        [2,3,4,9,7,5,4]"
   ]
  },
  {
   "cell_type": "code",
   "execution_count": 5,
   "id": "f01cc8bf",
   "metadata": {},
   "outputs": [
    {
     "name": "stdout",
     "output_type": "stream",
     "text": [
      "Return the delete value :  4\n",
      "List after the pop : [2, 3, 9, 7, 5, 4]\n"
     ]
    }
   ],
   "source": [
    "x =  [2,3,4,9,7,5,4]\n",
    "print(\"Return the delete value : \",x.pop(2)) # pop take the index values as a input and remove the element from list and return the element\n",
    "print(\"List after the pop :\",x)"
   ]
  },
  {
   "cell_type": "markdown",
   "id": "b5bfd728",
   "metadata": {},
   "source": [
    "### Q5. Insert the 5 on index number 6 in the list b\n",
    "        b = [3,4,2,1,9,10,23,12,5]"
   ]
  },
  {
   "cell_type": "code",
   "execution_count": 6,
   "id": "2f03720d",
   "metadata": {},
   "outputs": [
    {
     "name": "stdout",
     "output_type": "stream",
     "text": [
      "After the insert operations: [3, 4, 2, 1, 9, 10, 5, 23, 12, 5]\n"
     ]
    }
   ],
   "source": [
    "b = [3,4,2,1,9,10,23,12,5]\n",
    "b.insert(6,5)\n",
    "print(\"After the insert operations:\",b)"
   ]
  },
  {
   "cell_type": "markdown",
   "id": "b4004fc5",
   "metadata": {},
   "source": [
    "### Concat the tuple a and tuple b\n",
    "        a= ('a',20,40,100,'Hi')\n",
    "        b=(40,10,3)"
   ]
  },
  {
   "cell_type": "code",
   "execution_count": 7,
   "id": "2927c9a3",
   "metadata": {},
   "outputs": [
    {
     "name": "stdout",
     "output_type": "stream",
     "text": [
      "Concat Tuple a & Tuple b:  ('a', 20, 40, 100, 'Hi', 40, 10, 3)\n"
     ]
    }
   ],
   "source": [
    "a= ('a',20,40,100,'Hi')\n",
    "b=(40,10,3)\n",
    "print(\"Concat Tuple a & Tuple b: \",a+b)"
   ]
  },
  {
   "cell_type": "markdown",
   "id": "63c53c83",
   "metadata": {},
   "source": [
    "### Diffrence between tuple and list\n",
    "    "
   ]
  },
  {
   "cell_type": "markdown",
   "id": "071f4365",
   "metadata": {},
   "source": [
    "### Reverse the dictionary"
   ]
  },
  {
   "cell_type": "code",
   "execution_count": 8,
   "id": "0a213a3a",
   "metadata": {},
   "outputs": [],
   "source": [
    "dictionary = {'A':10,'B':5,'C':20,'D':10}\n",
    "new_dict = [{value:key} for key,value in dictionary.items()]"
   ]
  },
  {
   "cell_type": "code",
   "execution_count": 9,
   "id": "c7f7cc70",
   "metadata": {},
   "outputs": [
    {
     "name": "stdout",
     "output_type": "stream",
     "text": [
      "[{10: 'A'}, {5: 'B'}, {20: 'C'}, {10: 'D'}]\n"
     ]
    }
   ],
   "source": [
    "print(new_dict)"
   ]
  },
  {
   "cell_type": "markdown",
   "id": "02841b60",
   "metadata": {},
   "source": [
    "### You have given a string, You have to find the subset of string and replace the string with given string \n",
    "        string=\"aaaa aabb aba aabbaa abcabc bbccaaabbcc abcdaabcd\"\n",
    "        find_in_str=\"aa\"\n",
    "        replace_wth=\"Z\"\n",
    "        \n",
    "        you should be like : zz zbb aba zbbz abcabc bbcczbbcc zbcdzbcd\n",
    "        "
   ]
  },
  {
   "cell_type": "code",
   "execution_count": 10,
   "id": "fb6a9823",
   "metadata": {},
   "outputs": [],
   "source": [
    "string=\"aaaa aabb aba aabbaa abcabc bbccaaabbcc abcdaabcd\"\n",
    "find_in_str=\"aa\"\n",
    "replace_with=\"Z\""
   ]
  },
  {
   "cell_type": "code",
   "execution_count": 11,
   "id": "ae4bd672",
   "metadata": {},
   "outputs": [],
   "source": [
    "def find_replace(strings,find_in_str,replace_with):\n",
    "    len_s = len(strings)\n",
    "    len_r = len(find_in_str)\n",
    "    No =len_s-len_r\n",
    "    for i in range(No):\n",
    "        if find_in_str in strings[i:i+len_r]:\n",
    "            strings = strings.replace(strings[i:i+len_r],replace_with)\n",
    "        else:\n",
    "            pass\n",
    "    return strings"
   ]
  },
  {
   "cell_type": "code",
   "execution_count": 12,
   "id": "ff801924",
   "metadata": {},
   "outputs": [
    {
     "data": {
      "text/plain": [
       "'ZZ Zbb aba ZbbZ abcabc bbccZabbcc abcdZbcd'"
      ]
     },
     "execution_count": 12,
     "metadata": {},
     "output_type": "execute_result"
    }
   ],
   "source": [
    "find_replace(string,find_in_str,replace_with)"
   ]
  },
  {
   "cell_type": "markdown",
   "id": "02adf57f",
   "metadata": {},
   "source": [
    "## Write a function for Counting Table (From 2 to 20)"
   ]
  },
  {
   "cell_type": "code",
   "execution_count": 13,
   "id": "8a31eeee",
   "metadata": {},
   "outputs": [],
   "source": [
    "def count_table(num):\n",
    "    for  i in range(1,11):\n",
    "        print(num,'X',i,'=',num*i)\n",
    "    return ' '"
   ]
  },
  {
   "cell_type": "code",
   "execution_count": 14,
   "id": "00ecd4f7",
   "metadata": {},
   "outputs": [
    {
     "name": "stdout",
     "output_type": "stream",
     "text": [
      "2 X 1 = 2\n",
      "2 X 2 = 4\n",
      "2 X 3 = 6\n",
      "2 X 4 = 8\n",
      "2 X 5 = 10\n",
      "2 X 6 = 12\n",
      "2 X 7 = 14\n",
      "2 X 8 = 16\n",
      "2 X 9 = 18\n",
      "2 X 10 = 20\n",
      " \n",
      "3 X 1 = 3\n",
      "3 X 2 = 6\n",
      "3 X 3 = 9\n",
      "3 X 4 = 12\n",
      "3 X 5 = 15\n",
      "3 X 6 = 18\n",
      "3 X 7 = 21\n",
      "3 X 8 = 24\n",
      "3 X 9 = 27\n",
      "3 X 10 = 30\n",
      " \n",
      "4 X 1 = 4\n",
      "4 X 2 = 8\n",
      "4 X 3 = 12\n",
      "4 X 4 = 16\n",
      "4 X 5 = 20\n",
      "4 X 6 = 24\n",
      "4 X 7 = 28\n",
      "4 X 8 = 32\n",
      "4 X 9 = 36\n",
      "4 X 10 = 40\n",
      " \n",
      "5 X 1 = 5\n",
      "5 X 2 = 10\n",
      "5 X 3 = 15\n",
      "5 X 4 = 20\n",
      "5 X 5 = 25\n",
      "5 X 6 = 30\n",
      "5 X 7 = 35\n",
      "5 X 8 = 40\n",
      "5 X 9 = 45\n",
      "5 X 10 = 50\n",
      " \n",
      "6 X 1 = 6\n",
      "6 X 2 = 12\n",
      "6 X 3 = 18\n",
      "6 X 4 = 24\n",
      "6 X 5 = 30\n",
      "6 X 6 = 36\n",
      "6 X 7 = 42\n",
      "6 X 8 = 48\n",
      "6 X 9 = 54\n",
      "6 X 10 = 60\n",
      " \n",
      "7 X 1 = 7\n",
      "7 X 2 = 14\n",
      "7 X 3 = 21\n",
      "7 X 4 = 28\n",
      "7 X 5 = 35\n",
      "7 X 6 = 42\n",
      "7 X 7 = 49\n",
      "7 X 8 = 56\n",
      "7 X 9 = 63\n",
      "7 X 10 = 70\n",
      " \n",
      "8 X 1 = 8\n",
      "8 X 2 = 16\n",
      "8 X 3 = 24\n",
      "8 X 4 = 32\n",
      "8 X 5 = 40\n",
      "8 X 6 = 48\n",
      "8 X 7 = 56\n",
      "8 X 8 = 64\n",
      "8 X 9 = 72\n",
      "8 X 10 = 80\n",
      " \n",
      "9 X 1 = 9\n",
      "9 X 2 = 18\n",
      "9 X 3 = 27\n",
      "9 X 4 = 36\n",
      "9 X 5 = 45\n",
      "9 X 6 = 54\n",
      "9 X 7 = 63\n",
      "9 X 8 = 72\n",
      "9 X 9 = 81\n",
      "9 X 10 = 90\n",
      " \n",
      "10 X 1 = 10\n",
      "10 X 2 = 20\n",
      "10 X 3 = 30\n",
      "10 X 4 = 40\n",
      "10 X 5 = 50\n",
      "10 X 6 = 60\n",
      "10 X 7 = 70\n",
      "10 X 8 = 80\n",
      "10 X 9 = 90\n",
      "10 X 10 = 100\n",
      " \n",
      "11 X 1 = 11\n",
      "11 X 2 = 22\n",
      "11 X 3 = 33\n",
      "11 X 4 = 44\n",
      "11 X 5 = 55\n",
      "11 X 6 = 66\n",
      "11 X 7 = 77\n",
      "11 X 8 = 88\n",
      "11 X 9 = 99\n",
      "11 X 10 = 110\n",
      " \n",
      "12 X 1 = 12\n",
      "12 X 2 = 24\n",
      "12 X 3 = 36\n",
      "12 X 4 = 48\n",
      "12 X 5 = 60\n",
      "12 X 6 = 72\n",
      "12 X 7 = 84\n",
      "12 X 8 = 96\n",
      "12 X 9 = 108\n",
      "12 X 10 = 120\n",
      " \n",
      "13 X 1 = 13\n",
      "13 X 2 = 26\n",
      "13 X 3 = 39\n",
      "13 X 4 = 52\n",
      "13 X 5 = 65\n",
      "13 X 6 = 78\n",
      "13 X 7 = 91\n",
      "13 X 8 = 104\n",
      "13 X 9 = 117\n",
      "13 X 10 = 130\n",
      " \n",
      "14 X 1 = 14\n",
      "14 X 2 = 28\n",
      "14 X 3 = 42\n",
      "14 X 4 = 56\n",
      "14 X 5 = 70\n",
      "14 X 6 = 84\n",
      "14 X 7 = 98\n",
      "14 X 8 = 112\n",
      "14 X 9 = 126\n",
      "14 X 10 = 140\n",
      " \n",
      "15 X 1 = 15\n",
      "15 X 2 = 30\n",
      "15 X 3 = 45\n",
      "15 X 4 = 60\n",
      "15 X 5 = 75\n",
      "15 X 6 = 90\n",
      "15 X 7 = 105\n",
      "15 X 8 = 120\n",
      "15 X 9 = 135\n",
      "15 X 10 = 150\n",
      " \n",
      "16 X 1 = 16\n",
      "16 X 2 = 32\n",
      "16 X 3 = 48\n",
      "16 X 4 = 64\n",
      "16 X 5 = 80\n",
      "16 X 6 = 96\n",
      "16 X 7 = 112\n",
      "16 X 8 = 128\n",
      "16 X 9 = 144\n",
      "16 X 10 = 160\n",
      " \n",
      "17 X 1 = 17\n",
      "17 X 2 = 34\n",
      "17 X 3 = 51\n",
      "17 X 4 = 68\n",
      "17 X 5 = 85\n",
      "17 X 6 = 102\n",
      "17 X 7 = 119\n",
      "17 X 8 = 136\n",
      "17 X 9 = 153\n",
      "17 X 10 = 170\n",
      " \n",
      "18 X 1 = 18\n",
      "18 X 2 = 36\n",
      "18 X 3 = 54\n",
      "18 X 4 = 72\n",
      "18 X 5 = 90\n",
      "18 X 6 = 108\n",
      "18 X 7 = 126\n",
      "18 X 8 = 144\n",
      "18 X 9 = 162\n",
      "18 X 10 = 180\n",
      " \n",
      "19 X 1 = 19\n",
      "19 X 2 = 38\n",
      "19 X 3 = 57\n",
      "19 X 4 = 76\n",
      "19 X 5 = 95\n",
      "19 X 6 = 114\n",
      "19 X 7 = 133\n",
      "19 X 8 = 152\n",
      "19 X 9 = 171\n",
      "19 X 10 = 190\n",
      " \n",
      "20 X 1 = 20\n",
      "20 X 2 = 40\n",
      "20 X 3 = 60\n",
      "20 X 4 = 80\n",
      "20 X 5 = 100\n",
      "20 X 6 = 120\n",
      "20 X 7 = 140\n",
      "20 X 8 = 160\n",
      "20 X 9 = 180\n",
      "20 X 10 = 200\n",
      " \n"
     ]
    }
   ],
   "source": [
    "for i in range(2,21):\n",
    "    print(count_table(i),end='\\n')"
   ]
  },
  {
   "cell_type": "markdown",
   "id": "5fde07f7",
   "metadata": {},
   "source": [
    "### Sum the 1st 5 prime numbers\n",
    "\n",
    "#### you have given n numbers, you have to write a function that can sum first 5 prime numbers  "
   ]
  },
  {
   "cell_type": "code",
   "execution_count": 15,
   "id": "bfaa2c2a",
   "metadata": {},
   "outputs": [],
   "source": [
    "def sumPrime_num(n):\n",
    "    count=0\n",
    "    sums =0\n",
    "    for num in range(2,n+1):\n",
    "        j=1\n",
    "        for i in range(2,num):\n",
    "            if num%i==0:\n",
    "                j=num\n",
    "        if j!=num:\n",
    "            sums += num\n",
    "            count +=1\n",
    "            if count==5:\n",
    "                    break;\n",
    "    return sums"
   ]
  },
  {
   "cell_type": "code",
   "execution_count": 16,
   "id": "41e91d8b",
   "metadata": {},
   "outputs": [
    {
     "name": "stdout",
     "output_type": "stream",
     "text": [
      "Sum of 1st 5 prime numbers :  28\n"
     ]
    }
   ],
   "source": [
    "print(\"Sum of 1st 5 prime numbers : \",sumPrime_num(20))"
   ]
  },
  {
   "cell_type": "code",
   "execution_count": 17,
   "id": "3f7553c9",
   "metadata": {},
   "outputs": [],
   "source": [
    "def prime_num(n):\n",
    "    sums=0\n",
    "    count=0\n",
    "    for num in range(0,n):\n",
    "        if num>1:\n",
    "            for i in range(2,num):\n",
    "                if num%i==0:\n",
    "                    break\n",
    "            else:\n",
    "                count +=1\n",
    "                sums +=num\n",
    "                \n",
    "                if count==5:\n",
    "                    break\n",
    "    return sums"
   ]
  },
  {
   "cell_type": "code",
   "execution_count": 18,
   "id": "b08cd673",
   "metadata": {},
   "outputs": [
    {
     "name": "stdout",
     "output_type": "stream",
     "text": [
      "Sum of 1st 5 prime numbers : 28\n"
     ]
    }
   ],
   "source": [
    "print(\"Sum of 1st 5 prime numbers :\", prime_num(20))"
   ]
  },
  {
   "cell_type": "markdown",
   "id": "cc56856b",
   "metadata": {},
   "source": [
    "### you have given n numbers, you have to write a code that can Return True if it is prime numbers.\n"
   ]
  },
  {
   "cell_type": "code",
   "execution_count": 19,
   "id": "eb199502",
   "metadata": {},
   "outputs": [],
   "source": [
    "def check_prime(n):\n",
    "    if n<=1:\n",
    "        return False\n",
    "    for i in range(2,n):\n",
    "        if n%i==0:\n",
    "            return False\n",
    "        \n",
    "    return True"
   ]
  },
  {
   "cell_type": "code",
   "execution_count": 20,
   "id": "59630a02",
   "metadata": {},
   "outputs": [
    {
     "name": "stdout",
     "output_type": "stream",
     "text": [
      "False\n"
     ]
    }
   ],
   "source": [
    "print(check_prime(6))"
   ]
  },
  {
   "cell_type": "markdown",
   "id": "df089944",
   "metadata": {},
   "source": [
    "### Find the factorial of n using recursion"
   ]
  },
  {
   "cell_type": "code",
   "execution_count": 21,
   "id": "592b744d",
   "metadata": {},
   "outputs": [],
   "source": [
    "def factorial(n):\n",
    "    if n==1 or n==0:\n",
    "        return 1 \n",
    "    else:\n",
    "        return n*factorial(n-1)"
   ]
  },
  {
   "cell_type": "code",
   "execution_count": 22,
   "id": "1f7f155b",
   "metadata": {},
   "outputs": [
    {
     "name": "stdout",
     "output_type": "stream",
     "text": [
      "factorial of 5: 120\n"
     ]
    }
   ],
   "source": [
    "print(\"factorial of 5:\",factorial(5))"
   ]
  },
  {
   "cell_type": "markdown",
   "id": "cd1622b9",
   "metadata": {},
   "source": [
    "### Numpy"
   ]
  },
  {
   "cell_type": "code",
   "execution_count": 23,
   "id": "d661bf19",
   "metadata": {},
   "outputs": [],
   "source": [
    "import numpy as np\n",
    "import random"
   ]
  },
  {
   "cell_type": "code",
   "execution_count": 24,
   "id": "2a304cdc",
   "metadata": {},
   "outputs": [],
   "source": [
    "b=np.random.randint(1,20,5)"
   ]
  },
  {
   "cell_type": "code",
   "execution_count": 25,
   "id": "640d0b03",
   "metadata": {},
   "outputs": [],
   "source": [
    "zero_matrix=np.zeros(shape=(5,5))"
   ]
  },
  {
   "cell_type": "code",
   "execution_count": 26,
   "id": "09950511",
   "metadata": {},
   "outputs": [
    {
     "data": {
      "text/plain": [
       "array([[0., 0., 0., 0., 0.],\n",
       "       [0., 0., 0., 0., 0.],\n",
       "       [0., 0., 0., 0., 0.],\n",
       "       [0., 0., 0., 0., 0.],\n",
       "       [0., 0., 0., 0., 0.]])"
      ]
     },
     "execution_count": 26,
     "metadata": {},
     "output_type": "execute_result"
    }
   ],
   "source": [
    "zero_matrix"
   ]
  },
  {
   "cell_type": "code",
   "execution_count": 27,
   "id": "5b5b7146",
   "metadata": {},
   "outputs": [],
   "source": [
    "# use of vstack"
   ]
  },
  {
   "cell_type": "code",
   "execution_count": 28,
   "id": "c065b3c8",
   "metadata": {},
   "outputs": [],
   "source": [
    "ab=np.vstack([zero_matrix,b])"
   ]
  },
  {
   "cell_type": "code",
   "execution_count": 29,
   "id": "783991f9",
   "metadata": {},
   "outputs": [],
   "source": [
    "# Columns stack\n",
    "ac= np.column_stack([zero_matrix,b])"
   ]
  },
  {
   "cell_type": "code",
   "execution_count": 30,
   "id": "aad2f072",
   "metadata": {},
   "outputs": [
    {
     "data": {
      "text/plain": [
       "array([[ 0.,  0.,  0.,  0.,  0., 14.],\n",
       "       [ 0.,  0.,  0.,  0.,  0., 15.],\n",
       "       [ 0.,  0.,  0.,  0.,  0.,  3.],\n",
       "       [ 0.,  0.,  0.,  0.,  0.,  3.],\n",
       "       [ 0.,  0.,  0.,  0.,  0., 12.]])"
      ]
     },
     "execution_count": 30,
     "metadata": {},
     "output_type": "execute_result"
    }
   ],
   "source": [
    "ac"
   ]
  },
  {
   "cell_type": "code",
   "execution_count": 31,
   "id": "4ac4d3c3",
   "metadata": {},
   "outputs": [],
   "source": [
    "a=np.random.randint(10,20,5)\n",
    "ac= np.hstack([a,b])"
   ]
  },
  {
   "cell_type": "code",
   "execution_count": 32,
   "id": "557fe855",
   "metadata": {},
   "outputs": [
    {
     "name": "stdout",
     "output_type": "stream",
     "text": [
      "A : [14 19 16 13 12]\n",
      "B : [14 15  3  3 12]\n",
      "hstack: [14 19 16 13 12 14 15  3  3 12]\n"
     ]
    }
   ],
   "source": [
    "print('A :',a)\n",
    "print('B :',b)\n",
    "print('hstack:', ac)"
   ]
  },
  {
   "cell_type": "code",
   "execution_count": 33,
   "id": "896f7087",
   "metadata": {},
   "outputs": [
    {
     "name": "stdout",
     "output_type": "stream",
     "text": [
      "[[14 19 16 13 12]\n",
      " [14 15  3  3 12]]\n"
     ]
    }
   ],
   "source": [
    "print(np.vstack([a,b]))"
   ]
  },
  {
   "cell_type": "code",
   "execution_count": 34,
   "id": "da62c53c",
   "metadata": {},
   "outputs": [
    {
     "name": "stdout",
     "output_type": "stream",
     "text": [
      "[[14 14]\n",
      " [19 15]\n",
      " [16  3]\n",
      " [13  3]\n",
      " [12 12]]\n"
     ]
    }
   ],
   "source": [
    "print(np.column_stack([a,b]))"
   ]
  },
  {
   "cell_type": "code",
   "execution_count": 35,
   "id": "f8f4791e",
   "metadata": {},
   "outputs": [
    {
     "data": {
      "text/plain": [
       "array([14, 15])"
      ]
     },
     "execution_count": 35,
     "metadata": {},
     "output_type": "execute_result"
    }
   ],
   "source": [
    "np.diagonal(np.column_stack([a,b]))"
   ]
  },
  {
   "cell_type": "markdown",
   "id": "346b8391",
   "metadata": {},
   "source": [
    "### Pandas "
   ]
  },
  {
   "cell_type": "code",
   "execution_count": 36,
   "id": "b7489d63",
   "metadata": {},
   "outputs": [],
   "source": [
    "import pandas as pd"
   ]
  },
  {
   "cell_type": "code",
   "execution_count": 37,
   "id": "1db0b57b",
   "metadata": {},
   "outputs": [],
   "source": [
    "df = pd.DataFrame({ 'A': [1,2,3,4], \n",
    "                   'B': [10,20,30,40],\n",
    "                   'C': [20,40,60,80]\n",
    "                  }, \n",
    "                  index=['Row 1', 'Row 2', 'Row 3', 'Row 4'])\n"
   ]
  },
  {
   "cell_type": "code",
   "execution_count": 38,
   "id": "4984e615",
   "metadata": {},
   "outputs": [],
   "source": [
    "# Pandas series"
   ]
  },
  {
   "cell_type": "code",
   "execution_count": 39,
   "id": "1a034c48",
   "metadata": {},
   "outputs": [
    {
     "data": {
      "text/plain": [
       "pandas.core.series.Series"
      ]
     },
     "execution_count": 39,
     "metadata": {},
     "output_type": "execute_result"
    }
   ],
   "source": [
    "type(df.A)"
   ]
  },
  {
   "cell_type": "code",
   "execution_count": 40,
   "id": "9721e70f",
   "metadata": {},
   "outputs": [
    {
     "name": "stdout",
     "output_type": "stream",
     "text": [
      "Pandas Series : \n",
      " 0    3\n",
      "1    4\n",
      "2    5\n",
      "3    6\n",
      "4    7\n",
      "dtype: int64\n"
     ]
    }
   ],
   "source": [
    "print('Pandas Series : \\n',pd.Series([3,4,5,6,7]))"
   ]
  },
  {
   "cell_type": "code",
   "execution_count": 41,
   "id": "7d41e694",
   "metadata": {},
   "outputs": [
    {
     "data": {
      "text/html": [
       "<div>\n",
       "<style scoped>\n",
       "    .dataframe tbody tr th:only-of-type {\n",
       "        vertical-align: middle;\n",
       "    }\n",
       "\n",
       "    .dataframe tbody tr th {\n",
       "        vertical-align: top;\n",
       "    }\n",
       "\n",
       "    .dataframe thead th {\n",
       "        text-align: right;\n",
       "    }\n",
       "</style>\n",
       "<table border=\"1\" class=\"dataframe\">\n",
       "  <thead>\n",
       "    <tr style=\"text-align: right;\">\n",
       "      <th></th>\n",
       "      <th>A</th>\n",
       "      <th>B</th>\n",
       "      <th>C</th>\n",
       "    </tr>\n",
       "  </thead>\n",
       "  <tbody>\n",
       "    <tr>\n",
       "      <th>Row 1</th>\n",
       "      <td>1</td>\n",
       "      <td>10</td>\n",
       "      <td>20</td>\n",
       "    </tr>\n",
       "    <tr>\n",
       "      <th>Row 2</th>\n",
       "      <td>2</td>\n",
       "      <td>20</td>\n",
       "      <td>40</td>\n",
       "    </tr>\n",
       "    <tr>\n",
       "      <th>Row 3</th>\n",
       "      <td>3</td>\n",
       "      <td>30</td>\n",
       "      <td>60</td>\n",
       "    </tr>\n",
       "    <tr>\n",
       "      <th>Row 4</th>\n",
       "      <td>4</td>\n",
       "      <td>40</td>\n",
       "      <td>80</td>\n",
       "    </tr>\n",
       "  </tbody>\n",
       "</table>\n",
       "</div>"
      ],
      "text/plain": [
       "       A   B   C\n",
       "Row 1  1  10  20\n",
       "Row 2  2  20  40\n",
       "Row 3  3  30  60\n",
       "Row 4  4  40  80"
      ]
     },
     "execution_count": 41,
     "metadata": {},
     "output_type": "execute_result"
    }
   ],
   "source": [
    "df"
   ]
  },
  {
   "cell_type": "code",
   "execution_count": 42,
   "id": "1fa0efa1",
   "metadata": {},
   "outputs": [],
   "source": [
    "## Sum the 1st 2 columns and make another columns to store the values\n",
    "### Apply work on both pandas series and pandas Dataframe\n",
    "def sum_col(col):\n",
    "    return [col['A']+col['B']]\n",
    "df['Sum_ColA+ColB']=df.apply(sum_col,axis=1,result_type='expand')"
   ]
  },
  {
   "cell_type": "code",
   "execution_count": 43,
   "id": "e0cf88df",
   "metadata": {},
   "outputs": [
    {
     "data": {
      "text/html": [
       "<div>\n",
       "<style scoped>\n",
       "    .dataframe tbody tr th:only-of-type {\n",
       "        vertical-align: middle;\n",
       "    }\n",
       "\n",
       "    .dataframe tbody tr th {\n",
       "        vertical-align: top;\n",
       "    }\n",
       "\n",
       "    .dataframe thead th {\n",
       "        text-align: right;\n",
       "    }\n",
       "</style>\n",
       "<table border=\"1\" class=\"dataframe\">\n",
       "  <thead>\n",
       "    <tr style=\"text-align: right;\">\n",
       "      <th></th>\n",
       "      <th>A</th>\n",
       "      <th>B</th>\n",
       "      <th>C</th>\n",
       "      <th>Sum_ColA+ColB</th>\n",
       "    </tr>\n",
       "  </thead>\n",
       "  <tbody>\n",
       "    <tr>\n",
       "      <th>Row 1</th>\n",
       "      <td>1</td>\n",
       "      <td>10</td>\n",
       "      <td>20</td>\n",
       "      <td>11</td>\n",
       "    </tr>\n",
       "    <tr>\n",
       "      <th>Row 2</th>\n",
       "      <td>2</td>\n",
       "      <td>20</td>\n",
       "      <td>40</td>\n",
       "      <td>22</td>\n",
       "    </tr>\n",
       "    <tr>\n",
       "      <th>Row 3</th>\n",
       "      <td>3</td>\n",
       "      <td>30</td>\n",
       "      <td>60</td>\n",
       "      <td>33</td>\n",
       "    </tr>\n",
       "    <tr>\n",
       "      <th>Row 4</th>\n",
       "      <td>4</td>\n",
       "      <td>40</td>\n",
       "      <td>80</td>\n",
       "      <td>44</td>\n",
       "    </tr>\n",
       "  </tbody>\n",
       "</table>\n",
       "</div>"
      ],
      "text/plain": [
       "       A   B   C  Sum_ColA+ColB\n",
       "Row 1  1  10  20             11\n",
       "Row 2  2  20  40             22\n",
       "Row 3  3  30  60             33\n",
       "Row 4  4  40  80             44"
      ]
     },
     "execution_count": 43,
     "metadata": {},
     "output_type": "execute_result"
    }
   ],
   "source": [
    "df"
   ]
  },
  {
   "cell_type": "code",
   "execution_count": 44,
   "id": "01760950",
   "metadata": {},
   "outputs": [],
   "source": [
    "def pro_col(col):\n",
    "    return [col['A']*col['B']]"
   ]
  },
  {
   "cell_type": "code",
   "execution_count": 45,
   "id": "f535bacb",
   "metadata": {},
   "outputs": [],
   "source": [
    "df['Pro_ColA+ColB']=df.apply(pro_col,axis=1,result_type='expand')"
   ]
  },
  {
   "cell_type": "code",
   "execution_count": 46,
   "id": "82fb8fad",
   "metadata": {},
   "outputs": [
    {
     "data": {
      "text/html": [
       "<div>\n",
       "<style scoped>\n",
       "    .dataframe tbody tr th:only-of-type {\n",
       "        vertical-align: middle;\n",
       "    }\n",
       "\n",
       "    .dataframe tbody tr th {\n",
       "        vertical-align: top;\n",
       "    }\n",
       "\n",
       "    .dataframe thead th {\n",
       "        text-align: right;\n",
       "    }\n",
       "</style>\n",
       "<table border=\"1\" class=\"dataframe\">\n",
       "  <thead>\n",
       "    <tr style=\"text-align: right;\">\n",
       "      <th></th>\n",
       "      <th>A</th>\n",
       "      <th>B</th>\n",
       "      <th>C</th>\n",
       "      <th>Sum_ColA+ColB</th>\n",
       "      <th>Pro_ColA+ColB</th>\n",
       "    </tr>\n",
       "  </thead>\n",
       "  <tbody>\n",
       "    <tr>\n",
       "      <th>Row 1</th>\n",
       "      <td>1</td>\n",
       "      <td>10</td>\n",
       "      <td>20</td>\n",
       "      <td>11</td>\n",
       "      <td>10</td>\n",
       "    </tr>\n",
       "    <tr>\n",
       "      <th>Row 2</th>\n",
       "      <td>2</td>\n",
       "      <td>20</td>\n",
       "      <td>40</td>\n",
       "      <td>22</td>\n",
       "      <td>40</td>\n",
       "    </tr>\n",
       "    <tr>\n",
       "      <th>Row 3</th>\n",
       "      <td>3</td>\n",
       "      <td>30</td>\n",
       "      <td>60</td>\n",
       "      <td>33</td>\n",
       "      <td>90</td>\n",
       "    </tr>\n",
       "    <tr>\n",
       "      <th>Row 4</th>\n",
       "      <td>4</td>\n",
       "      <td>40</td>\n",
       "      <td>80</td>\n",
       "      <td>44</td>\n",
       "      <td>160</td>\n",
       "    </tr>\n",
       "  </tbody>\n",
       "</table>\n",
       "</div>"
      ],
      "text/plain": [
       "       A   B   C  Sum_ColA+ColB  Pro_ColA+ColB\n",
       "Row 1  1  10  20             11             10\n",
       "Row 2  2  20  40             22             40\n",
       "Row 3  3  30  60             33             90\n",
       "Row 4  4  40  80             44            160"
      ]
     },
     "execution_count": 46,
     "metadata": {},
     "output_type": "execute_result"
    }
   ],
   "source": [
    "df"
   ]
  },
  {
   "cell_type": "code",
   "execution_count": 47,
   "id": "b0ba2cb5",
   "metadata": {},
   "outputs": [],
   "source": [
    "### Sum the all columns values and store in another raw"
   ]
  },
  {
   "cell_type": "code",
   "execution_count": 48,
   "id": "e5be61a7",
   "metadata": {},
   "outputs": [],
   "source": [
    "df.loc['Total Sum']=df.apply(lambda x:x.sum())"
   ]
  },
  {
   "cell_type": "code",
   "execution_count": 49,
   "id": "6663dd5a",
   "metadata": {},
   "outputs": [
    {
     "data": {
      "text/html": [
       "<div>\n",
       "<style scoped>\n",
       "    .dataframe tbody tr th:only-of-type {\n",
       "        vertical-align: middle;\n",
       "    }\n",
       "\n",
       "    .dataframe tbody tr th {\n",
       "        vertical-align: top;\n",
       "    }\n",
       "\n",
       "    .dataframe thead th {\n",
       "        text-align: right;\n",
       "    }\n",
       "</style>\n",
       "<table border=\"1\" class=\"dataframe\">\n",
       "  <thead>\n",
       "    <tr style=\"text-align: right;\">\n",
       "      <th></th>\n",
       "      <th>A</th>\n",
       "      <th>B</th>\n",
       "      <th>C</th>\n",
       "      <th>Sum_ColA+ColB</th>\n",
       "      <th>Pro_ColA+ColB</th>\n",
       "    </tr>\n",
       "  </thead>\n",
       "  <tbody>\n",
       "    <tr>\n",
       "      <th>Row 1</th>\n",
       "      <td>1</td>\n",
       "      <td>10</td>\n",
       "      <td>20</td>\n",
       "      <td>11</td>\n",
       "      <td>10</td>\n",
       "    </tr>\n",
       "    <tr>\n",
       "      <th>Row 2</th>\n",
       "      <td>2</td>\n",
       "      <td>20</td>\n",
       "      <td>40</td>\n",
       "      <td>22</td>\n",
       "      <td>40</td>\n",
       "    </tr>\n",
       "    <tr>\n",
       "      <th>Row 3</th>\n",
       "      <td>3</td>\n",
       "      <td>30</td>\n",
       "      <td>60</td>\n",
       "      <td>33</td>\n",
       "      <td>90</td>\n",
       "    </tr>\n",
       "    <tr>\n",
       "      <th>Row 4</th>\n",
       "      <td>4</td>\n",
       "      <td>40</td>\n",
       "      <td>80</td>\n",
       "      <td>44</td>\n",
       "      <td>160</td>\n",
       "    </tr>\n",
       "    <tr>\n",
       "      <th>Total Sum</th>\n",
       "      <td>10</td>\n",
       "      <td>100</td>\n",
       "      <td>200</td>\n",
       "      <td>110</td>\n",
       "      <td>300</td>\n",
       "    </tr>\n",
       "  </tbody>\n",
       "</table>\n",
       "</div>"
      ],
      "text/plain": [
       "            A    B    C  Sum_ColA+ColB  Pro_ColA+ColB\n",
       "Row 1       1   10   20             11             10\n",
       "Row 2       2   20   40             22             40\n",
       "Row 3       3   30   60             33             90\n",
       "Row 4       4   40   80             44            160\n",
       "Total Sum  10  100  200            110            300"
      ]
     },
     "execution_count": 49,
     "metadata": {},
     "output_type": "execute_result"
    }
   ],
   "source": [
    "df"
   ]
  },
  {
   "cell_type": "markdown",
   "id": "2c1aa7ab",
   "metadata": {},
   "source": [
    "### Sum the all row values and store in another columns values"
   ]
  },
  {
   "cell_type": "code",
   "execution_count": 50,
   "id": "6716149a",
   "metadata": {},
   "outputs": [],
   "source": [
    "df['Total_sum']=df.apply(lambda x:x.sum(),axis=1)"
   ]
  },
  {
   "cell_type": "code",
   "execution_count": 51,
   "id": "1c468dd5",
   "metadata": {},
   "outputs": [
    {
     "data": {
      "text/html": [
       "<div>\n",
       "<style scoped>\n",
       "    .dataframe tbody tr th:only-of-type {\n",
       "        vertical-align: middle;\n",
       "    }\n",
       "\n",
       "    .dataframe tbody tr th {\n",
       "        vertical-align: top;\n",
       "    }\n",
       "\n",
       "    .dataframe thead th {\n",
       "        text-align: right;\n",
       "    }\n",
       "</style>\n",
       "<table border=\"1\" class=\"dataframe\">\n",
       "  <thead>\n",
       "    <tr style=\"text-align: right;\">\n",
       "      <th></th>\n",
       "      <th>A</th>\n",
       "      <th>B</th>\n",
       "      <th>C</th>\n",
       "      <th>Sum_ColA+ColB</th>\n",
       "      <th>Pro_ColA+ColB</th>\n",
       "      <th>Total_sum</th>\n",
       "    </tr>\n",
       "  </thead>\n",
       "  <tbody>\n",
       "    <tr>\n",
       "      <th>Row 1</th>\n",
       "      <td>1</td>\n",
       "      <td>10</td>\n",
       "      <td>20</td>\n",
       "      <td>11</td>\n",
       "      <td>10</td>\n",
       "      <td>52</td>\n",
       "    </tr>\n",
       "    <tr>\n",
       "      <th>Row 2</th>\n",
       "      <td>2</td>\n",
       "      <td>20</td>\n",
       "      <td>40</td>\n",
       "      <td>22</td>\n",
       "      <td>40</td>\n",
       "      <td>124</td>\n",
       "    </tr>\n",
       "    <tr>\n",
       "      <th>Row 3</th>\n",
       "      <td>3</td>\n",
       "      <td>30</td>\n",
       "      <td>60</td>\n",
       "      <td>33</td>\n",
       "      <td>90</td>\n",
       "      <td>216</td>\n",
       "    </tr>\n",
       "    <tr>\n",
       "      <th>Row 4</th>\n",
       "      <td>4</td>\n",
       "      <td>40</td>\n",
       "      <td>80</td>\n",
       "      <td>44</td>\n",
       "      <td>160</td>\n",
       "      <td>328</td>\n",
       "    </tr>\n",
       "    <tr>\n",
       "      <th>Total Sum</th>\n",
       "      <td>10</td>\n",
       "      <td>100</td>\n",
       "      <td>200</td>\n",
       "      <td>110</td>\n",
       "      <td>300</td>\n",
       "      <td>720</td>\n",
       "    </tr>\n",
       "  </tbody>\n",
       "</table>\n",
       "</div>"
      ],
      "text/plain": [
       "            A    B    C  Sum_ColA+ColB  Pro_ColA+ColB  Total_sum\n",
       "Row 1       1   10   20             11             10         52\n",
       "Row 2       2   20   40             22             40        124\n",
       "Row 3       3   30   60             33             90        216\n",
       "Row 4       4   40   80             44            160        328\n",
       "Total Sum  10  100  200            110            300        720"
      ]
     },
     "execution_count": 51,
     "metadata": {},
     "output_type": "execute_result"
    }
   ],
   "source": [
    "df"
   ]
  },
  {
   "cell_type": "markdown",
   "id": "86fc6432",
   "metadata": {},
   "source": [
    "### Use Applymap"
   ]
  },
  {
   "cell_type": "code",
   "execution_count": 52,
   "id": "026e8314",
   "metadata": {},
   "outputs": [],
   "source": [
    "data = {\n",
    "  \"name\": [\"Sally\",\"Mary\",\"John\"],\n",
    "  \"city\": [\"London\", \"Tokyo\", \"Madrid\"]\n",
    "}\n",
    "\n",
    "df_str = pd.DataFrame(data)\n",
    "### Applymap function work on dataframe only but it performed element-wise operation "
   ]
  },
  {
   "cell_type": "code",
   "execution_count": 53,
   "id": "22193942",
   "metadata": {},
   "outputs": [],
   "source": [
    "df_str1=df_str.applymap(lambda x:x.upper())"
   ]
  },
  {
   "cell_type": "code",
   "execution_count": 54,
   "id": "08af9013",
   "metadata": {},
   "outputs": [
    {
     "data": {
      "text/html": [
       "<div>\n",
       "<style scoped>\n",
       "    .dataframe tbody tr th:only-of-type {\n",
       "        vertical-align: middle;\n",
       "    }\n",
       "\n",
       "    .dataframe tbody tr th {\n",
       "        vertical-align: top;\n",
       "    }\n",
       "\n",
       "    .dataframe thead th {\n",
       "        text-align: right;\n",
       "    }\n",
       "</style>\n",
       "<table border=\"1\" class=\"dataframe\">\n",
       "  <thead>\n",
       "    <tr style=\"text-align: right;\">\n",
       "      <th></th>\n",
       "      <th>name</th>\n",
       "      <th>city</th>\n",
       "    </tr>\n",
       "  </thead>\n",
       "  <tbody>\n",
       "    <tr>\n",
       "      <th>0</th>\n",
       "      <td>SALLY</td>\n",
       "      <td>LONDON</td>\n",
       "    </tr>\n",
       "    <tr>\n",
       "      <th>1</th>\n",
       "      <td>MARY</td>\n",
       "      <td>TOKYO</td>\n",
       "    </tr>\n",
       "    <tr>\n",
       "      <th>2</th>\n",
       "      <td>JOHN</td>\n",
       "      <td>MADRID</td>\n",
       "    </tr>\n",
       "  </tbody>\n",
       "</table>\n",
       "</div>"
      ],
      "text/plain": [
       "    name    city\n",
       "0  SALLY  LONDON\n",
       "1   MARY   TOKYO\n",
       "2   JOHN  MADRID"
      ]
     },
     "execution_count": 54,
     "metadata": {},
     "output_type": "execute_result"
    }
   ],
   "source": [
    "df_str1"
   ]
  },
  {
   "cell_type": "code",
   "execution_count": 55,
   "id": "16f20a48",
   "metadata": {},
   "outputs": [
    {
     "data": {
      "text/html": [
       "<div>\n",
       "<style scoped>\n",
       "    .dataframe tbody tr th:only-of-type {\n",
       "        vertical-align: middle;\n",
       "    }\n",
       "\n",
       "    .dataframe tbody tr th {\n",
       "        vertical-align: top;\n",
       "    }\n",
       "\n",
       "    .dataframe thead th {\n",
       "        text-align: right;\n",
       "    }\n",
       "</style>\n",
       "<table border=\"1\" class=\"dataframe\">\n",
       "  <thead>\n",
       "    <tr style=\"text-align: right;\">\n",
       "      <th></th>\n",
       "      <th>name</th>\n",
       "      <th>city</th>\n",
       "    </tr>\n",
       "  </thead>\n",
       "  <tbody>\n",
       "    <tr>\n",
       "      <th>0</th>\n",
       "      <td>Sally</td>\n",
       "      <td>London</td>\n",
       "    </tr>\n",
       "    <tr>\n",
       "      <th>1</th>\n",
       "      <td>Mary</td>\n",
       "      <td>Tokyo</td>\n",
       "    </tr>\n",
       "    <tr>\n",
       "      <th>2</th>\n",
       "      <td>John</td>\n",
       "      <td>Madrid</td>\n",
       "    </tr>\n",
       "  </tbody>\n",
       "</table>\n",
       "</div>"
      ],
      "text/plain": [
       "    name    city\n",
       "0  Sally  London\n",
       "1   Mary   Tokyo\n",
       "2   John  Madrid"
      ]
     },
     "execution_count": 55,
     "metadata": {},
     "output_type": "execute_result"
    }
   ],
   "source": [
    "df_str"
   ]
  },
  {
   "cell_type": "code",
   "execution_count": 56,
   "id": "f321f031",
   "metadata": {},
   "outputs": [],
   "source": [
    "def concat(row):\n",
    "    return row['name']+row['city']\n",
    "df_str['Name_city']=df_str.apply(concat,axis=1,result_type='expand')"
   ]
  },
  {
   "cell_type": "code",
   "execution_count": 57,
   "id": "a52e97e5",
   "metadata": {},
   "outputs": [],
   "source": [
    "df_= df_str.applymap(lambda x: x+' Gupta')"
   ]
  },
  {
   "cell_type": "code",
   "execution_count": 58,
   "id": "e35244f3",
   "metadata": {},
   "outputs": [
    {
     "data": {
      "text/html": [
       "<div>\n",
       "<style scoped>\n",
       "    .dataframe tbody tr th:only-of-type {\n",
       "        vertical-align: middle;\n",
       "    }\n",
       "\n",
       "    .dataframe tbody tr th {\n",
       "        vertical-align: top;\n",
       "    }\n",
       "\n",
       "    .dataframe thead th {\n",
       "        text-align: right;\n",
       "    }\n",
       "</style>\n",
       "<table border=\"1\" class=\"dataframe\">\n",
       "  <thead>\n",
       "    <tr style=\"text-align: right;\">\n",
       "      <th></th>\n",
       "      <th>name</th>\n",
       "      <th>city</th>\n",
       "      <th>Name_city</th>\n",
       "    </tr>\n",
       "  </thead>\n",
       "  <tbody>\n",
       "    <tr>\n",
       "      <th>0</th>\n",
       "      <td>Sally Gupta</td>\n",
       "      <td>London Gupta</td>\n",
       "      <td>SallyLondon Gupta</td>\n",
       "    </tr>\n",
       "    <tr>\n",
       "      <th>1</th>\n",
       "      <td>Mary Gupta</td>\n",
       "      <td>Tokyo Gupta</td>\n",
       "      <td>MaryTokyo Gupta</td>\n",
       "    </tr>\n",
       "    <tr>\n",
       "      <th>2</th>\n",
       "      <td>John Gupta</td>\n",
       "      <td>Madrid Gupta</td>\n",
       "      <td>JohnMadrid Gupta</td>\n",
       "    </tr>\n",
       "  </tbody>\n",
       "</table>\n",
       "</div>"
      ],
      "text/plain": [
       "          name          city          Name_city\n",
       "0  Sally Gupta  London Gupta  SallyLondon Gupta\n",
       "1   Mary Gupta   Tokyo Gupta    MaryTokyo Gupta\n",
       "2   John Gupta  Madrid Gupta   JohnMadrid Gupta"
      ]
     },
     "execution_count": 58,
     "metadata": {},
     "output_type": "execute_result"
    }
   ],
   "source": [
    "df_.head()"
   ]
  },
  {
   "cell_type": "code",
   "execution_count": 59,
   "id": "66b4a81a",
   "metadata": {},
   "outputs": [],
   "source": [
    "df_=df.applymap(lambda x:x+10)"
   ]
  },
  {
   "cell_type": "code",
   "execution_count": 60,
   "id": "035acade",
   "metadata": {},
   "outputs": [
    {
     "data": {
      "text/html": [
       "<div>\n",
       "<style scoped>\n",
       "    .dataframe tbody tr th:only-of-type {\n",
       "        vertical-align: middle;\n",
       "    }\n",
       "\n",
       "    .dataframe tbody tr th {\n",
       "        vertical-align: top;\n",
       "    }\n",
       "\n",
       "    .dataframe thead th {\n",
       "        text-align: right;\n",
       "    }\n",
       "</style>\n",
       "<table border=\"1\" class=\"dataframe\">\n",
       "  <thead>\n",
       "    <tr style=\"text-align: right;\">\n",
       "      <th></th>\n",
       "      <th>A</th>\n",
       "      <th>B</th>\n",
       "      <th>C</th>\n",
       "      <th>Sum_ColA+ColB</th>\n",
       "      <th>Pro_ColA+ColB</th>\n",
       "      <th>Total_sum</th>\n",
       "    </tr>\n",
       "  </thead>\n",
       "  <tbody>\n",
       "    <tr>\n",
       "      <th>Row 1</th>\n",
       "      <td>11</td>\n",
       "      <td>20</td>\n",
       "      <td>30</td>\n",
       "      <td>21</td>\n",
       "      <td>20</td>\n",
       "      <td>62</td>\n",
       "    </tr>\n",
       "    <tr>\n",
       "      <th>Row 2</th>\n",
       "      <td>12</td>\n",
       "      <td>30</td>\n",
       "      <td>50</td>\n",
       "      <td>32</td>\n",
       "      <td>50</td>\n",
       "      <td>134</td>\n",
       "    </tr>\n",
       "    <tr>\n",
       "      <th>Row 3</th>\n",
       "      <td>13</td>\n",
       "      <td>40</td>\n",
       "      <td>70</td>\n",
       "      <td>43</td>\n",
       "      <td>100</td>\n",
       "      <td>226</td>\n",
       "    </tr>\n",
       "    <tr>\n",
       "      <th>Row 4</th>\n",
       "      <td>14</td>\n",
       "      <td>50</td>\n",
       "      <td>90</td>\n",
       "      <td>54</td>\n",
       "      <td>170</td>\n",
       "      <td>338</td>\n",
       "    </tr>\n",
       "    <tr>\n",
       "      <th>Total Sum</th>\n",
       "      <td>20</td>\n",
       "      <td>110</td>\n",
       "      <td>210</td>\n",
       "      <td>120</td>\n",
       "      <td>310</td>\n",
       "      <td>730</td>\n",
       "    </tr>\n",
       "  </tbody>\n",
       "</table>\n",
       "</div>"
      ],
      "text/plain": [
       "            A    B    C  Sum_ColA+ColB  Pro_ColA+ColB  Total_sum\n",
       "Row 1      11   20   30             21             20         62\n",
       "Row 2      12   30   50             32             50        134\n",
       "Row 3      13   40   70             43            100        226\n",
       "Row 4      14   50   90             54            170        338\n",
       "Total Sum  20  110  210            120            310        730"
      ]
     },
     "execution_count": 60,
     "metadata": {},
     "output_type": "execute_result"
    }
   ],
   "source": [
    "df_"
   ]
  },
  {
   "cell_type": "markdown",
   "id": "4a743b78",
   "metadata": {},
   "source": [
    "### PIPE in pandas"
   ]
  },
  {
   "cell_type": "markdown",
   "id": "3a9a0d19",
   "metadata": {},
   "source": [
    "    Pipe is a method in pandas.DataFrame capable of passing existing functions from packages or self-defined functions to dataframe. It is part of the methods that enable method chaining. By using pipe, multiple processes can be combined with method chaining without nesting. Let’s look into an example here to show its benefits.\n",
    "\n",
    "    In the documentation of pandas, there are 3 functions: h(df), g(df,arg1=a), f(df,arg2=b, arg3=c) applied on df in this order. Usually, three functions are nested in the sequence of calling. It is hard to read the functions & arguments at first glance. By method chaining, the relationships among operations can be shown in a clearer format."
   ]
  },
  {
   "cell_type": "code",
   "execution_count": 61,
   "id": "87126290",
   "metadata": {},
   "outputs": [],
   "source": [
    "df_data = pd.DataFrame({\n",
    "    'name': ['Ted'] * 3 + ['Lisa'] * 3 + ['Sam'] * 3,\n",
    "    'subject': ['math', 'physics', 'history'] * 3,\n",
    "    'score': np.random.randint(60, 100, 9)\n",
    "})"
   ]
  },
  {
   "cell_type": "code",
   "execution_count": 62,
   "id": "4505bf55",
   "metadata": {},
   "outputs": [
    {
     "data": {
      "text/html": [
       "<div>\n",
       "<style scoped>\n",
       "    .dataframe tbody tr th:only-of-type {\n",
       "        vertical-align: middle;\n",
       "    }\n",
       "\n",
       "    .dataframe tbody tr th {\n",
       "        vertical-align: top;\n",
       "    }\n",
       "\n",
       "    .dataframe thead th {\n",
       "        text-align: right;\n",
       "    }\n",
       "</style>\n",
       "<table border=\"1\" class=\"dataframe\">\n",
       "  <thead>\n",
       "    <tr style=\"text-align: right;\">\n",
       "      <th></th>\n",
       "      <th>name</th>\n",
       "      <th>subject</th>\n",
       "      <th>score</th>\n",
       "    </tr>\n",
       "  </thead>\n",
       "  <tbody>\n",
       "    <tr>\n",
       "      <th>0</th>\n",
       "      <td>Ted</td>\n",
       "      <td>math</td>\n",
       "      <td>60</td>\n",
       "    </tr>\n",
       "    <tr>\n",
       "      <th>1</th>\n",
       "      <td>Ted</td>\n",
       "      <td>physics</td>\n",
       "      <td>77</td>\n",
       "    </tr>\n",
       "    <tr>\n",
       "      <th>2</th>\n",
       "      <td>Ted</td>\n",
       "      <td>history</td>\n",
       "      <td>62</td>\n",
       "    </tr>\n",
       "    <tr>\n",
       "      <th>3</th>\n",
       "      <td>Lisa</td>\n",
       "      <td>math</td>\n",
       "      <td>65</td>\n",
       "    </tr>\n",
       "    <tr>\n",
       "      <th>4</th>\n",
       "      <td>Lisa</td>\n",
       "      <td>physics</td>\n",
       "      <td>68</td>\n",
       "    </tr>\n",
       "    <tr>\n",
       "      <th>5</th>\n",
       "      <td>Lisa</td>\n",
       "      <td>history</td>\n",
       "      <td>64</td>\n",
       "    </tr>\n",
       "    <tr>\n",
       "      <th>6</th>\n",
       "      <td>Sam</td>\n",
       "      <td>math</td>\n",
       "      <td>98</td>\n",
       "    </tr>\n",
       "    <tr>\n",
       "      <th>7</th>\n",
       "      <td>Sam</td>\n",
       "      <td>physics</td>\n",
       "      <td>77</td>\n",
       "    </tr>\n",
       "    <tr>\n",
       "      <th>8</th>\n",
       "      <td>Sam</td>\n",
       "      <td>history</td>\n",
       "      <td>61</td>\n",
       "    </tr>\n",
       "  </tbody>\n",
       "</table>\n",
       "</div>"
      ],
      "text/plain": [
       "   name  subject  score\n",
       "0   Ted     math     60\n",
       "1   Ted  physics     77\n",
       "2   Ted  history     62\n",
       "3  Lisa     math     65\n",
       "4  Lisa  physics     68\n",
       "5  Lisa  history     64\n",
       "6   Sam     math     98\n",
       "7   Sam  physics     77\n",
       "8   Sam  history     61"
      ]
     },
     "execution_count": 62,
     "metadata": {},
     "output_type": "execute_result"
    }
   ],
   "source": [
    "df_data"
   ]
  },
  {
   "cell_type": "markdown",
   "id": "d6c559cc",
   "metadata": {},
   "source": [
    "    Return pandas dataframe\n",
    "    The goal is to get the rank of every subject in one line and append it to the original dataframe. Thus, a function - get_subject_rank - is created to complete this task. By passing the functions, the rank is appended to the original dataframe."
   ]
  },
  {
   "cell_type": "code",
   "execution_count": 63,
   "id": "9f7a0844",
   "metadata": {},
   "outputs": [],
   "source": [
    "def subject_rank(df):\n",
    "    df=df.copy()\n",
    "    df['Subject_Rank']=(df.groupby(['subject'])['score'].rank(ascending=False))\n",
    "    return df"
   ]
  },
  {
   "cell_type": "code",
   "execution_count": 64,
   "id": "ed8e0c92",
   "metadata": {},
   "outputs": [],
   "source": [
    "def new_score(df,add_score):\n",
    "    df = df.copy()\n",
    "    df=df.assign(new_score=lambda x: x.score+add_score)\n",
    "    return df"
   ]
  },
  {
   "cell_type": "code",
   "execution_count": 65,
   "id": "5a025a93",
   "metadata": {},
   "outputs": [
    {
     "data": {
      "text/html": [
       "<div>\n",
       "<style scoped>\n",
       "    .dataframe tbody tr th:only-of-type {\n",
       "        vertical-align: middle;\n",
       "    }\n",
       "\n",
       "    .dataframe tbody tr th {\n",
       "        vertical-align: top;\n",
       "    }\n",
       "\n",
       "    .dataframe thead th {\n",
       "        text-align: right;\n",
       "    }\n",
       "</style>\n",
       "<table border=\"1\" class=\"dataframe\">\n",
       "  <thead>\n",
       "    <tr style=\"text-align: right;\">\n",
       "      <th></th>\n",
       "      <th>name</th>\n",
       "      <th>subject</th>\n",
       "      <th>score</th>\n",
       "      <th>Subject_Rank</th>\n",
       "      <th>new_score</th>\n",
       "    </tr>\n",
       "  </thead>\n",
       "  <tbody>\n",
       "    <tr>\n",
       "      <th>0</th>\n",
       "      <td>Ted</td>\n",
       "      <td>math</td>\n",
       "      <td>60</td>\n",
       "      <td>3.0</td>\n",
       "      <td>62</td>\n",
       "    </tr>\n",
       "    <tr>\n",
       "      <th>1</th>\n",
       "      <td>Ted</td>\n",
       "      <td>physics</td>\n",
       "      <td>77</td>\n",
       "      <td>1.5</td>\n",
       "      <td>79</td>\n",
       "    </tr>\n",
       "    <tr>\n",
       "      <th>2</th>\n",
       "      <td>Ted</td>\n",
       "      <td>history</td>\n",
       "      <td>62</td>\n",
       "      <td>2.0</td>\n",
       "      <td>64</td>\n",
       "    </tr>\n",
       "    <tr>\n",
       "      <th>3</th>\n",
       "      <td>Lisa</td>\n",
       "      <td>math</td>\n",
       "      <td>65</td>\n",
       "      <td>2.0</td>\n",
       "      <td>67</td>\n",
       "    </tr>\n",
       "    <tr>\n",
       "      <th>4</th>\n",
       "      <td>Lisa</td>\n",
       "      <td>physics</td>\n",
       "      <td>68</td>\n",
       "      <td>3.0</td>\n",
       "      <td>70</td>\n",
       "    </tr>\n",
       "    <tr>\n",
       "      <th>5</th>\n",
       "      <td>Lisa</td>\n",
       "      <td>history</td>\n",
       "      <td>64</td>\n",
       "      <td>1.0</td>\n",
       "      <td>66</td>\n",
       "    </tr>\n",
       "    <tr>\n",
       "      <th>6</th>\n",
       "      <td>Sam</td>\n",
       "      <td>math</td>\n",
       "      <td>98</td>\n",
       "      <td>1.0</td>\n",
       "      <td>100</td>\n",
       "    </tr>\n",
       "    <tr>\n",
       "      <th>7</th>\n",
       "      <td>Sam</td>\n",
       "      <td>physics</td>\n",
       "      <td>77</td>\n",
       "      <td>1.5</td>\n",
       "      <td>79</td>\n",
       "    </tr>\n",
       "    <tr>\n",
       "      <th>8</th>\n",
       "      <td>Sam</td>\n",
       "      <td>history</td>\n",
       "      <td>61</td>\n",
       "      <td>3.0</td>\n",
       "      <td>63</td>\n",
       "    </tr>\n",
       "  </tbody>\n",
       "</table>\n",
       "</div>"
      ],
      "text/plain": [
       "   name  subject  score  Subject_Rank  new_score\n",
       "0   Ted     math     60           3.0         62\n",
       "1   Ted  physics     77           1.5         79\n",
       "2   Ted  history     62           2.0         64\n",
       "3  Lisa     math     65           2.0         67\n",
       "4  Lisa  physics     68           3.0         70\n",
       "5  Lisa  history     64           1.0         66\n",
       "6   Sam     math     98           1.0        100\n",
       "7   Sam  physics     77           1.5         79\n",
       "8   Sam  history     61           3.0         63"
      ]
     },
     "execution_count": 65,
     "metadata": {},
     "output_type": "execute_result"
    }
   ],
   "source": [
    "df_data.pipe(subject_rank).pipe(new_score,2)"
   ]
  },
  {
   "cell_type": "markdown",
   "id": "9e42185d",
   "metadata": {},
   "source": [
    "### Map function\n",
    "###### The map() function executes a specified function for each item in an iterable. The item is sent to the function as a parameter."
   ]
  },
  {
   "cell_type": "code",
   "execution_count": 66,
   "id": "786c505e",
   "metadata": {},
   "outputs": [],
   "source": [
    "def concat(a, b):\n",
    "    return a + b\n",
    "x = list(map(concat, ('apple ', 'banana ', 'cherry '), (' orange', ' lemon', ' pineapple')))\n"
   ]
  },
  {
   "cell_type": "code",
   "execution_count": 67,
   "id": "1afc82db",
   "metadata": {},
   "outputs": [
    {
     "data": {
      "text/plain": [
       "['apple  orange', 'banana  lemon', 'cherry  pineapple']"
      ]
     },
     "execution_count": 67,
     "metadata": {},
     "output_type": "execute_result"
    }
   ],
   "source": [
    "list(x)"
   ]
  },
  {
   "cell_type": "markdown",
   "id": "47b8158e",
   "metadata": {},
   "source": [
    "### find the sqrt of the given number using map and lambda functions"
   ]
  },
  {
   "cell_type": "code",
   "execution_count": 68,
   "id": "0039381b",
   "metadata": {},
   "outputs": [
    {
     "data": {
      "text/plain": [
       "[4.0, 5.0, 6.0, 7.0, 8.0, 9.0]"
      ]
     },
     "execution_count": 68,
     "metadata": {},
     "output_type": "execute_result"
    }
   ],
   "source": [
    "no = [16,25,36,49,64,81]\n",
    "list(map(lambda x:np.sqrt(x),no))"
   ]
  },
  {
   "cell_type": "code",
   "execution_count": 69,
   "id": "54875243",
   "metadata": {},
   "outputs": [
    {
     "data": {
      "text/plain": [
       "[4, 9, 16, 25, 36, 49]"
      ]
     },
     "execution_count": 69,
     "metadata": {},
     "output_type": "execute_result"
    }
   ],
   "source": [
    "# square the given numbers\n",
    "No=[2,3,4,5,6,7]\n",
    "list(map(lambda x:x**2,No))"
   ]
  },
  {
   "cell_type": "markdown",
   "id": "78e2e0ab",
   "metadata": {},
   "source": [
    "### Reduce \n",
    "##### Use reduce function to sum the given element"
   ]
  },
  {
   "cell_type": "code",
   "execution_count": 70,
   "id": "26daa85b",
   "metadata": {},
   "outputs": [],
   "source": [
    "from functools import reduce"
   ]
  },
  {
   "cell_type": "code",
   "execution_count": 71,
   "id": "4c26c6cf",
   "metadata": {},
   "outputs": [
    {
     "data": {
      "text/plain": [
       "27"
      ]
     },
     "execution_count": 71,
     "metadata": {},
     "output_type": "execute_result"
    }
   ],
   "source": [
    "reduce(lambda x,y:x+y,No) # reduce function return single values from list "
   ]
  },
  {
   "cell_type": "code",
   "execution_count": 72,
   "id": "88902b75",
   "metadata": {},
   "outputs": [
    {
     "data": {
      "text/plain": [
       "7"
      ]
     },
     "execution_count": 72,
     "metadata": {},
     "output_type": "execute_result"
    }
   ],
   "source": [
    "### Find the maximum element from the list\n",
    "No=[2,3,4,5,6,7]\n",
    "reduce(lambda x,y: x if x>y else y,No)"
   ]
  },
  {
   "cell_type": "code",
   "execution_count": 73,
   "id": "7b15323d",
   "metadata": {},
   "outputs": [],
   "source": [
    "### Filter functions\n",
    "### use filter function and find the even numbers\n",
    "def check_even(n):\n",
    "    if n>1:\n",
    "        if n%2==0:\n",
    "            return True\n",
    "        else:\n",
    "            return False"
   ]
  },
  {
   "cell_type": "code",
   "execution_count": 74,
   "id": "9ef6a13d",
   "metadata": {},
   "outputs": [
    {
     "data": {
      "text/plain": [
       "[2, 6, 8]"
      ]
     },
     "execution_count": 74,
     "metadata": {},
     "output_type": "execute_result"
    }
   ],
   "source": [
    "list(filter(check_even,[1,2,3,6,7,8,9]))"
   ]
  },
  {
   "cell_type": "code",
   "execution_count": 75,
   "id": "615c5571",
   "metadata": {},
   "outputs": [
    {
     "data": {
      "text/plain": [
       "[2, 3, 7]"
      ]
     },
     "execution_count": 75,
     "metadata": {},
     "output_type": "execute_result"
    }
   ],
   "source": [
    "### use filter function and find the prime numbers\n",
    "list(filter(check_prime,[1,2,3,6,7,8,9]))"
   ]
  },
  {
   "cell_type": "code",
   "execution_count": null,
   "id": "39f56013",
   "metadata": {},
   "outputs": [],
   "source": []
  }
 ],
 "metadata": {
  "kernelspec": {
   "display_name": "Python 3",
   "language": "python",
   "name": "python3"
  },
  "language_info": {
   "codemirror_mode": {
    "name": "ipython",
    "version": 3
   },
   "file_extension": ".py",
   "mimetype": "text/x-python",
   "name": "python",
   "nbconvert_exporter": "python",
   "pygments_lexer": "ipython3",
   "version": "3.7.10"
  }
 },
 "nbformat": 4,
 "nbformat_minor": 5
}
